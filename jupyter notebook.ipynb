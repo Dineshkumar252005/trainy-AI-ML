{
 "cells": [
  {
   "metadata": {
    "ExecuteTime": {
     "end_time": "2025-07-16T04:01:37.939201Z",
     "start_time": "2025-07-16T04:01:35.533330Z"
    }
   },
   "cell_type": "code",
   "source": [
    "import numpy as np\n",
    "import pandas as pd\n"
   ],
   "id": "e47ac8f6b38db0ea",
   "outputs": [],
   "execution_count": 1
  },
  {
   "metadata": {
    "ExecuteTime": {
     "end_time": "2025-07-16T04:08:01.994324Z",
     "start_time": "2025-07-16T04:08:01.972240Z"
    }
   },
   "cell_type": "code",
   "source": [
    "np.random.seed(42)\n",
    "employee_ids=[f\"EMP_{i:03d}\" for i in range(1,31)]\n",
    "dates=pd.date_range(\"2025-07-01\",periods=30,freq=\"D\")\n",
    "employee_ids"
   ],
   "id": "40f36b70a1a224c3",
   "outputs": [
    {
     "data": {
      "text/plain": [
       "['EMP_001',\n",
       " 'EMP_002',\n",
       " 'EMP_003',\n",
       " 'EMP_004',\n",
       " 'EMP_005',\n",
       " 'EMP_006',\n",
       " 'EMP_007',\n",
       " 'EMP_008',\n",
       " 'EMP_009',\n",
       " 'EMP_010',\n",
       " 'EMP_011',\n",
       " 'EMP_012',\n",
       " 'EMP_013',\n",
       " 'EMP_014',\n",
       " 'EMP_015',\n",
       " 'EMP_016',\n",
       " 'EMP_017',\n",
       " 'EMP_018',\n",
       " 'EMP_019',\n",
       " 'EMP_020',\n",
       " 'EMP_021',\n",
       " 'EMP_022',\n",
       " 'EMP_023',\n",
       " 'EMP_024',\n",
       " 'EMP_025',\n",
       " 'EMP_026',\n",
       " 'EMP_027',\n",
       " 'EMP_028',\n",
       " 'EMP_029',\n",
       " 'EMP_030']"
      ]
     },
     "execution_count": 4,
     "metadata": {},
     "output_type": "execute_result"
    }
   ],
   "execution_count": 4
  },
  {
   "metadata": {
    "ExecuteTime": {
     "end_time": "2025-07-16T04:20:36.716085Z",
     "start_time": "2025-07-16T04:20:36.703463Z"
    }
   },
   "cell_type": "code",
   "source": [
    "data={\n",
    "    \"Date\":np.tile(dates,len(employee_ids)),\n",
    "    \"Employee_ID\":np.repeat(employee_ids,len(dates)),\n",
    "    \"Working_Hours\":np.random.normal(4,10,size=len(dates)*len(employee_ids)).round(2)\n",
    "}"
   ],
   "id": "f27217216dbf04f9",
   "outputs": [],
   "execution_count": 7
  },
  {
   "metadata": {
    "ExecuteTime": {
     "end_time": "2025-07-16T04:20:57.646282Z",
     "start_time": "2025-07-16T04:20:57.633377Z"
    }
   },
   "cell_type": "code",
   "source": "df=pd.DataFrame(data)",
   "id": "861dbd6e3582aa57",
   "outputs": [],
   "execution_count": 8
  },
  {
   "metadata": {
    "ExecuteTime": {
     "end_time": "2025-07-16T04:23:20.423743Z",
     "start_time": "2025-07-16T04:23:20.395798Z"
    }
   },
   "cell_type": "code",
   "source": "df.to_csv(\"employee_working_hours.csv\",index=False)",
   "id": "f7986d4adae7d11f",
   "outputs": [],
   "execution_count": 10
  },
  {
   "metadata": {
    "ExecuteTime": {
     "end_time": "2025-07-16T04:24:01.990949Z",
     "start_time": "2025-07-16T04:24:01.968653Z"
    }
   },
   "cell_type": "code",
   "source": "df_csv=pd.read_csv(\"employee_working_hours.csv\")",
   "id": "f417a741c31fcd2f",
   "outputs": [],
   "execution_count": 11
  },
  {
   "metadata": {
    "ExecuteTime": {
     "end_time": "2025-07-16T04:27:55.399511Z",
     "start_time": "2025-07-16T04:27:55.371742Z"
    }
   },
   "cell_type": "code",
   "source": [
    "print(df_csv.head())\n",
    "print(df_csv.describe())\n",
    "print(df_csv[\"Employee_ID\"].nunique())"
   ],
   "id": "47672a6a367e70cb",
   "outputs": [
    {
     "name": "stdout",
     "output_type": "stream",
     "text": [
      "         Date Employee_ID  Working_Hours\n",
      "0  2025-07-01     EMP_001          -2.02\n",
      "1  2025-07-02     EMP_001          22.52\n",
      "2  2025-07-03     EMP_001           3.87\n",
      "3  2025-07-04     EMP_001          -6.58\n",
      "4  2025-07-05     EMP_001          12.23\n",
      "       Working_Hours\n",
      "count     900.000000\n",
      "mean        4.320367\n",
      "std         9.792563\n",
      "min       -28.410000\n",
      "25%        -2.397500\n",
      "50%         4.405000\n",
      "75%        10.575000\n",
      "max        42.530000\n",
      "30\n"
     ]
    }
   ],
   "execution_count": 12
  },
  {
   "metadata": {
    "ExecuteTime": {
     "end_time": "2025-07-16T04:31:59.823844Z",
     "start_time": "2025-07-16T04:31:59.807303Z"
    }
   },
   "cell_type": "code",
   "source": [
    "total_hours =df_csv.groupby(\"Employee_ID\")[\"Working_Hours\"].sum().sort_values(ascending=False)\n",
    "total_hours"
   ],
   "id": "a82182109da3ff3e",
   "outputs": [
    {
     "data": {
      "text/plain": [
       "Employee_ID\n",
       "EMP_029    245.24\n",
       "EMP_020    219.41\n",
       "EMP_010    204.55\n",
       "EMP_005    203.63\n",
       "EMP_012    188.45\n",
       "EMP_030    186.48\n",
       "EMP_028    183.81\n",
       "EMP_025    177.58\n",
       "EMP_027    165.44\n",
       "EMP_009    152.15\n",
       "EMP_019    146.33\n",
       "EMP_006    139.66\n",
       "EMP_007    134.41\n",
       "EMP_015    133.97\n",
       "EMP_013    128.64\n",
       "EMP_026    127.59\n",
       "EMP_002    123.87\n",
       "EMP_003    113.92\n",
       "EMP_023    108.58\n",
       "EMP_014    102.81\n",
       "EMP_018     93.15\n",
       "EMP_004     91.55\n",
       "EMP_001     83.64\n",
       "EMP_022     80.96\n",
       "EMP_021     79.38\n",
       "EMP_008     76.96\n",
       "EMP_016     60.62\n",
       "EMP_024     58.56\n",
       "EMP_011     58.06\n",
       "EMP_017     18.93\n",
       "Name: Working_Hours, dtype: float64"
      ]
     },
     "execution_count": 13,
     "metadata": {},
     "output_type": "execute_result"
    }
   ],
   "execution_count": 13
  },
  {
   "metadata": {
    "ExecuteTime": {
     "end_time": "2025-07-16T04:36:14.671451Z",
     "start_time": "2025-07-16T04:36:14.662954Z"
    }
   },
   "cell_type": "code",
   "source": "avg_daily=df_csv.groupby(\"Employee_ID\")[\"Working_Hours\"].mean()",
   "id": "1234d03d1cd9d2d3",
   "outputs": [],
   "execution_count": 14
  },
  {
   "metadata": {
    "ExecuteTime": {
     "end_time": "2025-07-16T04:41:19.632046Z",
     "start_time": "2025-07-16T04:41:19.618377Z"
    }
   },
   "cell_type": "code",
   "source": [
    "threshold_low=5\n",
    "threshold_high=9\n",
    "df_csv[\"Low_Hour_Flag\"]=df_csv[\"Working_Hours\"]>=threshold_low\n",
    "df_csv[\"High_Hour_Flag\"]=df_csv[\"Working_Hours\"]<=threshold_high\n",
    "print(df_csv[df_csv[\"Low_Hour_Flag\"]|df_csv[\"High_Hour_Flag\"]].head())"
   ],
   "id": "ca94e161a489057b",
   "outputs": [
    {
     "name": "stdout",
     "output_type": "stream",
     "text": [
      "         Date Employee_ID  Working_Hours  Low_Hour_Flag  High_Hour_Flag\n",
      "0  2025-07-01     EMP_001          -2.02          False            True\n",
      "1  2025-07-02     EMP_001          22.52           True           False\n",
      "2  2025-07-03     EMP_001           3.87          False            True\n",
      "3  2025-07-04     EMP_001          -6.58          False            True\n",
      "4  2025-07-05     EMP_001          12.23           True           False\n"
     ]
    }
   ],
   "execution_count": 16
  },
  {
   "metadata": {
    "ExecuteTime": {
     "end_time": "2025-07-16T04:56:35.590331Z",
     "start_time": "2025-07-16T04:56:34.788435Z"
    }
   },
   "cell_type": "code",
   "source": [
    "import matplotlib.pyplot as plt\n",
    "import seaborn as sns\n",
    "#Bar chart of top 10 employees with highest, total hours\n",
    "top10 = total_hours.head(10)\n",
    "plt.figure(figsize=(10,5))\n",
    "sns.barplot(x=top10.index, y=top10.values)\n",
    "plt.xticks(rotation=45)\n",
    "plt.title(\"Top 10 Employees by Total working Hours\")\n",
    "plt.ylabel(\"Hours\")\n",
    "plt.tight_layout()\n",
    "plt.show()"
   ],
   "id": "2858e9c4c0e95f0e",
   "outputs": [
    {
     "data": {
      "text/plain": [
       "<Figure size 1000x500 with 1 Axes>"
      ],
      "image/png": "[encoded data removed]"
     },
     "metadata": {},
     "output_type": "display_data"
    }
   ],
   "execution_count": 19
  }
 ],
 "metadata": {
  "kernelspec": {
   "display_name": "Python 3",
   "language": "python",
   "name": "python3"
  },
  "language_info": {
   "codemirror_mode": {
    "name": "ipython",
    "version": 2
   },
   "file_extension": ".py",
   "mimetype": "text/x-python",
   "name": "python",
   "nbconvert_exporter": "python",
   "pygments_lexer": "ipython2",
   "version": "2.7.6"
  }
 },
 "nbformat": 4,
 "nbformat_minor": 5
}
